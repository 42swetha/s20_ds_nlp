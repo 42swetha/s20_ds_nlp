{
 "cells": [
  {
   "cell_type": "markdown",
   "metadata": {},
   "source": [
    "N-Gram Models and their probabilities"
   ]
  },
  {
   "cell_type": "markdown",
   "metadata": {},
   "source": [
    "A first step in making use of n-gram models is using them to estimate the probabilities of certain events.\n",
    "\n",
    "In order to make use of these models we will first want to count the words in a document."
   ]
  },
  {
   "cell_type": "code",
   "execution_count": 5,
   "metadata": {},
   "outputs": [
    {
     "name": "stdout",
     "output_type": "stream",
     "text": [
      "Smoke filled the air as multiple fire departments battled a grass fire Monday north of Henry.\n",
      "\n",
      "A large amount of smoke was reported at about 3:35 p.m., about six miles north of Henry, Morrill Fire Chief Matt Hinman said.\n",
      "\n",
      "Firefighters from Mitchell, Morrill, Lyman, Torrington, Scottsbluff Rural, Scottsbluff and Gering were called out to respond to the fire. Firefighters from Yoder and Lingle, Wyoming, fire departments, as well as Hot Springs, South Dakota, have also been called to assist. Hinman estimated 50 to 60 firefighters have responded to battle the fire.\n",
      "\n",
      "“Right now, a wild estimate would be 200-300 acres,” are burning, Hinman said at about 6 p.m., “\n",
      "\n",
      "One firefighter, Mike Kindred, of Lyman Volunteer Fire, said he had been on the front lines and called the fire “pretty rugged.” He said it is smokey and firefighters can’t see much and are battling the fire on rough, sandy terrain.\n",
      "\n",
      "The goal, Hingman said, is to “hold the fire lines, hope the winds die down and have the fire contained by dark.”\n",
      "\n",
      "Winds were averaging around 30 miles per hour.Today the #NASDAQ bell rang “Tronc, Tronc!” #transformationItem 1A.\n",
      "Risk Factors\n",
      "The following description of risk factors includes any material changes to, and supersedes the description of, risk factors associated with the Company’s business previously disclosed in Part I, Item 1A of the 2017 Form 10-K under the heading “Risk Factors.” The business, financial condition and operating results of the Company can be affected by a number of factors, whether currently known or unknown, including but not limited to those described below, any one or more of which could, directly or indirectly, cause the Company’s actual financial condition and operating results to vary materially from past, or from anticipated future, financial condition and operating results. Any of these factors, in whole or in part, could materially and adversely affect the Company’s business, financial condition, operating results and stock price.\n",
      "The following discussion of risk factors contains forward-looking statements. These risk factors may be important to understanding other statements in this Form 10-Q. The following information should be read in conjunction with the condensed consolidated financial statements and related notes in Part I, Item 1, “Financial Statements” and Part I, Item 2, “Management’s Discussion and Analysis of Financial Condition and Results of Operations” of this Form 10-Q.\n",
      "Because of the following factors, as well as other factors affecting the Company’s financial condition and operating results, past financial performance should not be considered to be a reliable indicator of future performance, and investors should not use historical trends to anticipate results or trends in future periods.\n",
      "Global and regional economic conditions could materially adversely affect the Company.\n",
      "The Company’s operations and performance depend significantly on global and regional economic conditions. Uncertainty about global and regional economic conditions poses a risk as consumers and businesses may postpone spending in response to tighter credit, higher unemployment, financial market volatility, government austerity programs, negative financial news, declines in income or asset values and/or other factors. These worldwide and regional economic conditions could have a material adverse effect on demand for the Company’s products and services. Demand also could differ materially from the Company’s expectations as a result of currency fluctuations because the Company generally raises prices on goods and services sold outside the U.S. to correspond with the effect of a strengthening of the U.S. dollar. Other factors that could influence worldwide or regional demand include changes in fuel and other energy costs, conditions in the real estate and mortgage markets, unemployment, labor and healthcare costs, access to credit, consumer confidence and other macroeconomic factors affecting consumer spending behavior. These and other economic factors could materially adversely affect demand for the Company’s products and services.\n",
      "In the event of financial turmoil affecting the banking system and financial markets, additional consolidation of the financial services industry, or significant financial service institution failures, there could be tightening in the credit markets, low liquidity and extreme volatility in fixed income, credit, currency and equity markets. This could have a number of effects on the Company’s business, including the insolvency or financial instability of outsourcing partners or suppliers or their inability to obtain credit to finance development and/or manufacture products, resulting in product delays; inability of customers, including channel partners, to obtain credit to finance purchases of the Company’s products; failure of derivative counterparties and other financial institutions; and restrictions on the Company’s ability to issue new debt. Other income and expense also could vary materially from expectations depending on gains or losses realized on the sale or exchange of financial instruments; impairment charges resulting from revaluations of debt and equity securities and other investments; changes in interest rates; increases or decreases in cash balances; volatility in foreign exchange rates; and changes in fair value of derivative instruments. Increased volatility in the financial markets and overall economic uncertainty would increase the risk of the actual amounts realized in the future on the Company’s financial instruments differing significantly from the fair values currently assigned to them.\n",
      "\n",
      "Apple Inc. | Q1 2018 Form 10-Q | 33\n",
      "\n",
      "Global markets for the Company’s products and services are highly competitive and subject to rapid technological change, and the Company may be unable to compete effectively in these markets.\n",
      "The Company’s products and services compete in highly competitive global markets characterized by aggressive price competition and resulting downward pressure on gross margins, frequent introduction of new products, short product life cycles, evolving industry standards, continual improvement in product price/performance characteristics, rapid adoption of technological and product advancements by competitors and price sensitivity on the part of consumers.\n",
      "The Company’s ability to compete successfully depends heavily on its ability to ensure a continuing and timely introduction of innovative new products, services and technologies to the marketplace. The Company believes it is unique in that it designs and develops nearly the entire solution for its products, including the hardware, operating system, numerous software applications and related services. As a result, the Company must make significant investments in R&D. The Company currently holds a significant number of patents and copyrights and has registered and/or has applied to register numerous patents, trademarks and service marks. In contrast, many of the Company’s competitors seek to compete primarily through aggressive pricing and very low cost structures, and emulating the Company’s products and infringing on its intellectual property. If the Company is unable to continue to develop and sell innovative new products with attractive margins or if competitors infringe on the Company’s intellectual property, the Company’s ability to maintain a competitive advantage could be adversely affected.\n",
      "The Company markets certain mobile communication and media devices based on the iOS mobile operating system and also markets related services, including third-party digital content and applications. The Company faces substantial competition in these markets from companies that have significant technical, marketing, distribution and other resources, as well as established hardware, software and digital content supplier relationships; and the Company has a minority market share in the global smartphone market. Additionally, the Company faces significant competition as competitors reduce their selling prices and attempt to imitate the Company’s product features and applications within their own products or, alternatively, collaborate with each other to offer solutions that are more competitive than those they currently offer. The Company competes with business models that provide content to users for free. The Company also competes with illegitimate means to obtain third-party digital content and applications. Some of the Company’s competitors have greater experience, product breadth and distribution channels than the Company. Because some current and potential competitors have substantial resources and/or experience and a lower cost structure, they may be able to provide products and services at little or no profit or even at a loss. The Company also expects competition to intensify as competitors attempt to imitate the Company’s approach to providing components seamlessly within their individual offerings or work collaboratively to offer integrated solutions. The Company’s financial condition and operating results depend substantially on the Company’s ability to continually improve iOS and iOS devices in order to maintain their functional and design advantages.\n",
      "The Company is the only authorized maker of hardware using macOS, which has a minority market share in the personal computer market. This market has been contracting and is dominated by computer makers using competing operating systems, most notably Windows. In the market for personal computers and accessories, the Company faces a significant number of competitors, many of which have broader product lines, lower-priced products and a larger installed customer base. Historically, consolidation in this market has resulted in larger competitors. Competition has been particularly intense as competitors have aggressively cut prices and lowered product margins. An increasing number of internet-enabled devices that include software applications and are smaller and simpler than traditional personal computers compete for market share with the Company’s existing products. The Company’s financial condition and operating results also depend on its ability to continually improve the Mac platform to maintain its functional and design advantages.\n",
      "There can be no assurance the Company will be able to continue to provide products and services that compete effectively.\n",
      "To remain competitive and stimulate customer demand, the Company must successfully manage frequent product introductions and transitions.\n",
      "Due to the highly volatile and competitive nature of the industries in which the Company competes, the Company must continually introduce new products, services and technologies, enhance existing products and services, effectively stimulate customer demand for new and upgraded products and successfully manage the transition to these new and upgraded products. The success of new product introductions depends on a number of factors including, but not limited to, timely and successful product development, market acceptance, the Company’s ability to manage the risks associated with new product production ramp-up issues, the availability of application software for new products, the effective management of purchase commitments and inventory levels in line with anticipated product demand, the availability of products in appropriate quantities and at expected costs to meet anticipated demand and the risk that new products may have quality or other defects or deficiencies in the early stages of introduction. Accordingly, the Company cannot determine in advance the ultimate effect of new product introductions and transitions.\n",
      "\n",
      "Apple Inc. | Q1 2018 Form 10-Q | 34\n",
      "\n",
      "The Company depends on the performance of distributors, carriers and other resellers.\n",
      "The Company distributes its products through cellular network carriers, wholesalers, national and regional retailers and resellers, many of whom distribute products from competing manufacturers. The Company also sells its products and third-party products in most of its major markets directly to education, enterprise and government customers and consumers and small and mid-sized businesses through its retail and online stores.\n",
      "Some carriers providing cellular network service for iPhone subsidize users’ purchases of the device. There is no assurance that such subsidies will be continued at all or in the same amounts upon renewal of the Company’s agreements with these carriers or in agreements the Company enters into with new carriers.\n",
      "The Company has invested and will continue to invest in programs to enhance reseller sales, including staffing selected resellers’ stores with Company employees and contractors, and improving product placement displays. These programs could require a substantial investment while providing no assurance of return or incremental revenue. The financial condition of these resellers could weaken, these resellers could stop distributing the Company’s products, or uncertainty regarding demand for some or all of the Company’s products could cause resellers to reduce their ordering and marketing of the Company’s products.\n",
      "The Company faces substantial inventory and other asset risk in addition to purchase commitment cancellation risk.\n",
      "The Company records a write-down for product and component inventories that have become obsolete or exceed anticipated demand or net realizable value and accrues necessary cancellation fee reserves for orders of excess products and components. The Company also reviews its long-lived assets, including capital assets held at its suppliers’ facilities and inventory prepayments, for impairment whenever events or circumstances indicate the carrying amount of an asset may not be recoverable. If the Company determines that impairment has occurred, it records a write-down equal to the amount by which the carrying value of the asset exceeds its fair value. Although the Company believes its provisions related to inventory, capital assets, inventory prepayments and other assets and purchase commitments are currently adequate, no assurance can be given that the Company will not incur additional related charges given the rapid and unpredictable pace of product obsolescence in the industries in which the Company competes.\n",
      "The Company must order components for its products and build inventory in advance of product announcements and shipments. Manufacturing purchase obligations typically cover forecasted component and manufacturing requirements for periods up to 150 days. Because the Company’s markets are volatile, competitive and subject to rapid technology and price changes, there is a risk the Company will forecast incorrectly and order or produce excess or insufficient amounts of components or products, or not fully utilize firm purchase commitments.\n",
      "Future operating results depend upon the Company’s ability to obtain components in sufficient quantities on commercially reasonable terms.\n",
      "Because the Company currently obtains components from single or limited sources, the Company is subject to significant supply and pricing risks. Many components, including those that are available from multiple sources, are at times subject to industry-wide shortages and significant commodity pricing fluctuations. While the Company has entered into agreements for the supply of many components, there can be no assurance that the Company will be able to extend or renew these agreements on similar terms, or at all. A number of suppliers of components may suffer from poor financial conditions, which can lead to business failure for the supplier or consolidation within a particular industry, further limiting the Company’s ability to obtain sufficient quantities of components on commercially reasonable terms. The effects of global or regional economic conditions on the Company’s suppliers, described in “Global and regional economic conditions could materially adversely affect the Company” above, also could affect the Company’s ability to obtain components. Therefore, the Company remains subject to significant risks of supply shortages and price increases.\n",
      "The Company’s new products often utilize custom components available from only one source. When a component or product uses new technologies, initial capacity constraints may exist until the suppliers’ yields have matured or manufacturing capacity has increased. Continued availability of these components at acceptable prices, or at all, may be affected for any number of reasons, including if those suppliers decide to concentrate on the production of common components instead of components customized to meet the Company’s requirements. The supply of components for a new or existing product could be delayed or constrained, or a key manufacturing vendor could delay shipments of completed products to the Company.\n",
      "\n",
      "Apple Inc. | Q1 2018 Form 10-Q | 35\n",
      "\n",
      "The Company depends on component and product manufacturing and logistical services provided by outsourcing partners, many of which are located outside of the U.S.\n",
      "Substantially all of the Company’s manufacturing is performed in whole or in part by a few outsourcing partners located primarily in Asia. The Company has also outsourced much of its transportation and logistics management. While these arrangements may lower operating costs, they also reduce the Company’s direct control over production and distribution. It is uncertain what effect such diminished control will have on the quality or quantity of products or services, or the Company’s flexibility to respond to changing conditions. Although arrangements with these partners may contain provisions for warranty expense reimbursement, the Company may remain responsible to the consumer for warranty service in the event of product defects and could experience an unanticipated product defect or warranty liability. While the Company relies on its partners to adhere to its supplier code of conduct, material violations of the supplier code of conduct could occur.\n",
      "The Company relies on sole-sourced outsourcing partners in the U.S., Asia and Europe to supply and manufacture many critical components, and on outsourcing partners primarily located in Asia, for final assembly of substantially all of the Company’s hardware products. Any failure of these partners to perform may have a negative impact on the Company’s cost or supply of components or finished goods. In addition, manufacturing or logistics in these locations or transit to final destinations may be disrupted for a variety of reasons including, but not limited to, natural and man-made disasters, information technology system failures, commercial disputes, military actions or economic, business, labor, environmental, public health, or political issues.\n",
      "The Company has invested in manufacturing process equipment, much of which is held at certain of its outsourcing partners, and has made prepayments to certain of its suppliers associated with long-term supply agreements. While these arrangements help ensure the supply of components and finished goods, if these outsourcing partners or suppliers experience severe financial problems or other disruptions in their business, such continued supply could be reduced or terminated and the net realizable value of these assets could be negatively impacted.\n",
      "The Company’s products and services may experience quality problems from time to time that can result in decreased sales and operating margin and harm to the Company’s reputation.\n",
      "The Company sells complex hardware and software products and services that can contain design and manufacturing defects. Sophisticated operating system software and applications, such as those sold by the Company, often contain “bugs” that can unexpectedly interfere with the software’s intended operation. The Company’s online services may from time to time experience outages, service slowdowns or errors. Defects may also occur in components and products the Company purchases from third parties. There can be no assurance the Company will be able to detect and fix all defects in the hardware, software and services it sells. Failure to do so could result in lost revenue, significant warranty and other expenses and harm to the Company’s reputation.\n",
      "The Company relies on access to third-party digital content, which may not be available to the Company on commercially reasonable terms or at all.\n",
      "The Company contracts with numerous third parties to offer their digital content to customers. This includes the right to sell currently available music, movies, TV shows and books. The licensing or other distribution arrangements with these third parties are for relatively short terms and do not guarantee the continuation or renewal of these arrangements on reasonable terms, if at all. Some third-party content providers and distributors currently or in the future may offer competing products and services, and could take action to make it more difficult or impossible for the Company to license or otherwise distribute their content in the future. Other content owners, providers or distributors may seek to limit the Company’s access to, or increase the cost of, such content. The Company may be unable to continue to offer a wide variety of content at reasonable prices with acceptable usage rules, or continue to expand its geographic reach. Failure to obtain the right to make third-party digital content available, or to make such content available on commercially reasonable terms, could have a material adverse impact on the Company’s financial condition and operating results.\n",
      "Some third-party digital content providers require the Company to provide digital rights management and other security solutions. If requirements change, the Company may have to develop or license new technology to provide these solutions. There is no assurance the Company will be able to develop or license such solutions at a reasonable cost and in a timely manner. In addition, certain countries have passed or may propose and adopt legislation that would force the Company to license its digital rights management, which could lessen the protection of content and subject it to piracy and also could negatively affect arrangements with the Company’s content providers.\n",
      "\n",
      "Apple Inc. | Q1 2018 Form 10-Q | 36\n",
      "\n",
      "The Company’s future performance depends in part on support from third-party software developers.\n",
      "The Company believes decisions by customers to purchase its hardware products depend in part on the availability of third-party software applications and services. There is no assurance that third-party developers will continue to develop and maintain software applications and services for the Company’s products. If third-party software applications and services cease to be developed and maintained for the Company’s products, customers may choose not to buy the Company’s products.\n",
      "With respect to its Mac products, the Company believes the availability of third-party software applications and services depends in part on the developers’ perception and analysis of the relative benefits of developing, maintaining and upgrading such software for the Company’s products compared to Windows-based products. This analysis may be based on factors such as the market position of the Company and its products, the anticipated revenue that may be generated, expected future growth of Mac sales and the costs of developing such applications and services. If the Company’s minority share of the global personal computer market causes developers to question the Mac’s prospects, developers could be less inclined to develop or upgrade software for the Company’s Mac products and more inclined to devote their resources to developing and upgrading software for the larger Windows market.\n",
      "With respect to iOS devices, the Company relies on the continued availability and development of compelling and innovative software applications, including applications distributed through the App Store. iOS devices are subject to rapid technological change, and, if third-party developers are unable to or choose not to keep up with this pace of change, third-party applications might not successfully operate and may result in dissatisfied customers. As with applications for the Company’s Mac products, the availability and development of these applications also depend on developers’ perceptions and analysis of the relative benefits of developing, maintaining or upgrading software for the Company’s iOS devices rather than its competitors’ platforms, such as Android. If developers focus their efforts on these competing platforms, the availability and quality of applications for the Company’s iOS devices may suffer.\n",
      "The Company relies on access to third-party intellectual property, which may not be available to the Company on commercially reasonable terms or at all.\n",
      "Many of the Company’s products include third-party intellectual property, which requires licenses from those third parties. Based on past experience and industry practice, the Company believes such licenses generally can be obtained on reasonable terms. There is, however, no assurance that the necessary licenses can be obtained on acceptable terms or at all. Failure to obtain the right to use third-party intellectual property, or to use such intellectual property on commercially reasonable terms, could preclude the Company from selling certain products or otherwise have a material adverse impact on the Company’s financial condition and operating results.\n",
      "The Company could be impacted by unfavorable results of legal proceedings, such as being found to have infringed on intellectual property rights.\n",
      "The Company is subject to various legal proceedings and claims that have arisen in the ordinary course of business and have not yet been fully resolved, and new claims may arise in the future. In addition, agreements entered into by the Company sometimes include indemnification provisions which may subject the Company to costs and damages in the event of a claim against an indemnified third party.\n",
      "Claims against the Company based on allegations of patent infringement or other violations of intellectual property rights have generally increased over time and may continue to increase. In particular, the Company has historically faced a significant number of patent claims relating to its cellular-enabled products, and new claims may arise in the future. For example, technology and other patent-holding companies frequently assert their patents and seek royalties and often enter into litigation based on allegations of patent infringement or other violations of intellectual property rights. The Company is vigorously defending infringement actions in courts in a number of U.S. jurisdictions and before the U.S. International Trade Commission, as well as internationally in various countries. The plaintiffs in these actions frequently seek injunctions and substantial damages.\n",
      "Regardless of the merit of particular claims, litigation may be expensive, time-consuming, disruptive to the Company’s operations and distracting to management. In recognition of these considerations, the Company may enter into licensing agreements or other arrangements to settle litigation and resolve such disputes. No assurance can be given that such agreements can be obtained on acceptable terms or that litigation will not occur. These agreements may also significantly increase the Company’s operating expenses.\n",
      "In management’s opinion, there is not at least a reasonable possibility the Company may have incurred a material loss, or a material loss in excess of a recorded accrual, with respect to loss contingencies, including matters related to infringement of intellectual property rights. However, the outcome of litigation is inherently uncertain.\n",
      "\n",
      "Apple Inc. | Q1 2018 Form 10-Q | 37\n",
      "\n",
      "Although management considers the likelihood of such an outcome to be remote, if one or more legal matters were resolved against the Company or an indemnified third party in a reporting period for amounts in excess of management’s expectations, the Company’s consolidated financial statements for that reporting period could be materially adversely affected. Further, such an outcome could result in significant compensatory, punitive or trebled monetary damages, disgorgement of revenue or profits, remedial corporate measures or injunctive relief against the Company that could materially adversely affect its financial condition and operating results.\n",
      "While the Company maintains insurance coverage for certain types of claims, such insurance coverage may be insufficient to cover all losses or all types of claims that may arise.\n",
      "The Company is subject to laws and regulations worldwide, changes to which could increase the Company’s costs and individually or in the aggregate adversely affect the Company’s business.\n",
      "The Company is subject to laws and regulations affecting its domestic and international operations in a number of areas. These U.S. and foreign laws and regulations affect the Company’s activities including, but not limited to, in areas of labor, advertising, digital content, consumer protection, real estate, billing, e-commerce, promotions, quality of services, telecommunications, mobile communications and media, television, intellectual property ownership and infringement, tax, import and export requirements, anti-corruption, foreign exchange controls and cash repatriation restrictions, data privacy requirements, anti-competition, environmental, health and safety.\n",
      "By way of example, laws and regulations related to mobile communications and media devices in the many jurisdictions in which the Company operates are extensive and subject to change. Such changes could include, among others, restrictions on the production, manufacture, distribution and use of devices, locking devices to a carrier’s network, or mandating the use of devices on more than one carrier’s network. These devices are also subject to certification and regulation by governmental and standardization bodies, as well as by cellular network carriers for use on their networks. These certification processes are extensive and time consuming, and could result in additional testing requirements, product modifications, or delays in product shipment dates, or could preclude the Company from selling certain products.\n",
      "Compliance with these laws, regulations and similar requirements may be onerous and expensive, and they may be inconsistent from jurisdiction to jurisdiction, further increasing the cost of compliance and doing business. Any such costs, which may rise in the future as a result of changes in these laws and regulations or in their interpretation, could individually or in the aggregate make the Company’s products and services less attractive to the Company’s customers, delay the introduction of new products in one or more regions, or cause the Company to change or limit its business practices. The Company has implemented policies and procedures designed to ensure compliance with applicable laws and regulations, but there can be no assurance that the Company’s employees, contractors, or agents will not violate such laws and regulations or the Company’s policies and procedures.\n",
      "The Company’s business is subject to the risks of international operations.\n",
      "The Company derives a significant portion of its revenue and earnings from its international operations. Compliance with applicable U.S. and foreign laws and regulations, such as import and export requirements, anti-corruption laws, tax laws, foreign exchange controls and cash repatriation restrictions, data privacy requirements, environmental laws, labor laws and anti-competition regulations, increases the costs of doing business in foreign jurisdictions. Although the Company has implemented policies and procedures to comply with these laws and regulations, a violation by the Company’s employees, contractors or agents could nevertheless occur. In some cases, compliance with the laws and regulations of one country could violate the laws and regulations of another country. Violations of these laws and regulations could materially adversely affect the Company’s brand, international growth efforts and business.\n",
      "The Company also could be significantly affected by other risks associated with international activities including, but not limited to, economic and labor conditions, increased duties, taxes and other costs and political instability. Margins on sales of the Company’s products in foreign countries, and on sales of products that include components obtained from foreign suppliers, could be materially adversely affected by international trade regulations, including duties, tariffs and antidumping penalties. The Company is also exposed to credit and collectibility risk on its trade receivables with customers in certain international markets. There can be no assurance the Company can effectively limit its credit risk and avoid losses.\n",
      "\n",
      "Apple Inc. | Q1 2018 Form 10-Q | 38\n",
      "\n",
      "The Company’s retail stores have required and will continue to require a substantial investment and commitment of resources and are subject to numerous risks and uncertainties.\n",
      "The Company’s retail stores have required substantial investment in equipment and leasehold improvements, information systems, inventory and personnel. The Company also has entered into substantial operating lease commitments for retail space. Certain stores have been designed and built to serve as high-profile venues to promote brand awareness and serve as vehicles for corporate sales and marketing activities. Because of their unique design elements, locations and size, these stores require substantially more investment than the Company’s more typical retail stores. Due to the high cost structure associated with the Company’s retail stores, a decline in sales or the closure or poor performance of individual or multiple stores could result in significant lease termination costs, write-offs of equipment and leasehold improvements and severance costs.\n",
      "Many factors unique to retail operations, some of which are beyond the Company’s control, pose risks and uncertainties. These risks and uncertainties include, but are not limited to, macro-economic factors that could have an adverse effect on general retail activity, as well as the Company’s inability to manage costs associated with store construction and operation, the Company’s failure to manage relationships with its existing retail partners, more challenging environments in managing retail operations outside the U.S., costs associated with unanticipated fluctuations in the value of retail inventory, and the Company’s inability to obtain and renew leases in quality retail locations at a reasonable cost.\n",
      "Investment in new business strategies and acquisitions could disrupt the Company’s ongoing business and present risks not originally contemplated.\n",
      "The Company has invested, and in the future may invest, in new business strategies or acquisitions. Such endeavors may involve significant risks and uncertainties, including distraction of management from current operations, greater than expected liabilities and expenses, inadequate return of capital and unidentified issues not discovered in the Company’s due diligence. These new ventures are inherently risky and may not be successful.\n",
      "The Company’s business and reputation may be impacted by information technology system failures or network disruptions.\n",
      "The Company may be subject to information technology system failures or network disruptions caused by natural disasters, accidents, power disruptions, telecommunications failures, acts of terrorism or war, computer viruses, physical or electronic break-ins, or other events or disruptions. System redundancy and other continuity measures may be ineffective or inadequate, and the Company’s business continuity and disaster recovery planning may not be sufficient for all eventualities. Such failures or disruptions could adversely impact the Company’s business by, among other things, preventing access to the Company’s online services, interfering with customer transactions or impeding the manufacturing and shipping of the Company’s products. These events could materially adversely affect the Company’s reputation, financial condition and operating results.\n",
      "There may be losses or unauthorized access to or releases of confidential information, including personally identifiable information, that could subject the Company to significant reputational, financial, legal and operational consequences.\n",
      "The Company’s business requires it to use and store confidential information, including, among other things, personally identifiable information (“PII”) with respect to the Company’s customers and employees. The Company devotes significant resources to network and data security, including through the use of encryption and other security measures intended to protect its systems and data. But these measures cannot provide absolute security, and losses or unauthorized access to or releases of confidential information may still occur, which could materially adversely affect the Company’s reputation, financial condition and operating results.\n",
      "The Company’s business also requires it to share confidential information with suppliers and other third parties. Although the Company takes steps to secure confidential information that is provided to third parties, such measures may not be effective and losses or unauthorized access to or releases of confidential information may still occur, which could materially adversely affect the Company’s reputation, financial condition and operating results.\n",
      "For example, the Company may experience a security breach impacting the Company’s information technology systems that compromises the confidentiality, integrity or availability of confidential information. Such an incident could, among other things, impair the Company’s ability to attract and retain customers for its products and services, impact the Company’s stock price, materially damage supplier relationships, and expose the Company to litigation or government investigations, which could result in penalties, fines or judgments against the Company.\n",
      "Although malicious attacks perpetrated to gain access to confidential information, including PII, affect many companies across various industries, the Company is at a relatively greater risk of being targeted because of its high profile and the value of the confidential information it creates, owns, manages, stores and processes.\n",
      "\n",
      "Apple Inc. | Q1 2018 Form 10-Q | 39\n",
      "\n",
      "The Company has implemented systems and processes intended to secure its information technology systems and prevent unauthorized access to or loss of sensitive data, including through the use of encryption and authentication technologies. As with all companies, these security measures may not be sufficient for all eventualities and may be vulnerable to hacking, employee error, malfeasance, system error, faulty password management or other irregularities. For example, third parties may attempt to fraudulently induce employees or customers into disclosing user names, passwords or other sensitive information, which may in turn be used to access the Company’s information technology systems. To help protect customers and the Company, the Company monitors its services and systems for unusual activity and may freeze accounts under suspicious circumstances, which, among other things, may result in the delay or loss of customer orders or impede customer access to the Company’s products and services.\n",
      "In addition to the risks relating to general confidential information described above, the Company may also be subject to specific obligations relating to health data and payment card data. Health data may be subject to additional privacy, security and breach notification requirements, and the Company may be subject to audit by governmental authorities regarding the Company’s compliance with these obligations. If the Company fails to adequately comply with these rules and requirements, or if health data is handled in a manner not permitted by law or under the Company’s agreements with healthcare institutions, the Company could be subject to litigation or government investigations, may be liable for associated investigatory expenses, and could also incur significant fees or fines.\n",
      "Under payment card rules and obligations, if cardholder information is potentially compromised, the Company could be liable for associated investigatory expenses and could also incur significant fees or fines if the Company fails to follow payment card industry data security standards. The Company could also experience a significant increase in payment card transaction costs or lose the ability to process payment cards if it fails to follow payment card industry data security standards, which would materially adversely affect the Company’s reputation, financial condition and operating results.\n",
      "While the Company maintains insurance coverage that is intended to address certain aspects of data security risks, such insurance coverage may be insufficient to cover all losses or all types of claims that may arise.\n",
      "The Company’s business is subject to a variety of U.S. and international laws, rules, policies and other obligations regarding data protection.\n",
      "The Company is subject to federal, state and international laws relating to the collection, use, retention, security and transfer of PII. In many cases, these laws apply not only to third-party transactions, but also may restrict transfers of PII among the Company and its international subsidiaries. Several jurisdictions have passed laws in this area, and other jurisdictions are considering imposing additional restrictions. These laws continue to develop and may be inconsistent from jurisdiction to jurisdiction. Complying with emerging and changing international requirements may cause the Company to incur substantial costs or require the Company to change its business practices. Noncompliance could result in significant penalties or legal liability.\n",
      "The Company makes statements about its use and disclosure of PII through its privacy policy, information provided on its website and press statements. Any failure by the Company to comply with these public statements or with other federal, state or international privacy-related or data protection laws and regulations could result in proceedings against the Company by governmental entities or others. In addition to reputational impacts, penalties could include ongoing audit requirements and significant legal liability.\n",
      "The Company’s success depends largely on the continued service and availability of key personnel.\n",
      "Much of the Company’s future success depends on the continued availability and service of key personnel, including its Chief Executive Officer, executive team and other highly skilled employees. Experienced personnel in the technology industry are in high demand and competition for their talents is intense, especially in Silicon Valley, where most of the Company’s key personnel are located.\n",
      "\n",
      "Apple Inc. | Q1 2018 Form 10-Q | 40\n",
      "\n",
      "The Company’s business may be impacted by political events, war, terrorism, public health issues, natural disasters and other business interruptions.\n",
      "War, terrorism, geopolitical uncertainties, public health issues and other business interruptions have caused and could cause damage or disruption to international commerce and the global economy, and thus could have a material adverse effect on the Company, its suppliers, logistics providers, manufacturing vendors and customers, including channel partners. The Company’s business operations are subject to interruption by, among others, natural disasters, whether as a result of climate change or otherwise, fire, power shortages, nuclear power plant accidents and other industrial accidents, terrorist attacks and other hostile acts, labor disputes, public health issues and other events beyond its control. Such events could decrease demand for the Company’s products, make it difficult or impossible for the Company to make and deliver products to its customers, including channel partners, or to receive components from its suppliers, and create delays and inefficiencies in the Company’s supply chain. While the Company’s suppliers are required to maintain safe working environments and operations, an industrial accident could occur and could result in disruption to the Company’s business and harm to the Company’s reputation. Should major public health issues, including pandemics, arise, the Company could be adversely affected by more stringent employee travel restrictions, additional limitations in freight services, governmental actions limiting the movement of products between regions, delays in production ramps of new products and disruptions in the operations of the Company’s manufacturing vendors and component suppliers. The majority of the Company’s R&D activities, its corporate headquarters, information technology systems and other critical business operations, including certain component suppliers and manufacturing vendors, are in locations that could be affected by natural disasters. In the event of a natural disaster, the Company could incur significant losses, require substantial recovery time and experience significant expenditures in order to resume operations.\n",
      "The Company expects its quarterly revenue and operating results to fluctuate.\n",
      "The Company’s profit margins vary across its products and distribution channels. The Company’s software, accessories, and service and support contracts generally have higher gross margins than certain of the Company’s other products. Gross margins on the Company’s hardware products vary across product lines and can change over time as a result of product transitions, pricing and configuration changes, and component, warranty, and other cost fluctuations. The Company’s direct sales generally have higher associated gross margins than its indirect sales through its channel partners. In addition, the Company’s gross margin and operating margin percentages, as well as overall profitability, may be materially adversely impacted as a result of a shift in product, geographic or channel mix, component cost increases, the strengthening U.S. dollar, price competition, or the introduction of new products, including those that have higher cost structures with flat or reduced pricing.\n",
      "The Company has typically experienced higher net sales in its first quarter compared to other quarters due in part to seasonal holiday demand. Additionally, new product introductions can significantly impact net sales, product costs and operating expenses. Further, the Company generates a majority of its net sales from a single product and a decline in demand for that product could significantly impact quarterly net sales. The Company could also be subject to unexpected developments late in a quarter, such as lower-than-anticipated demand for the Company’s products, issues with new product introductions, an internal systems failure, or failure of one of the Company’s logistics, components supply, or manufacturing partners.\n",
      "The Company’s stock price is subject to volatility.\n",
      "The Company’s stock price has experienced substantial price volatility in the past and may continue to do so in the future. Additionally, the Company, the technology industry and the stock market as a whole have experienced extreme stock price and volume fluctuations that have affected stock prices in ways that may have been unrelated to these companies’ operating performance. Price volatility over a given period may cause the average price at which the Company repurchases its own stock to exceed the stock’s price at a given point in time. The Company believes its stock price should reflect expectations of future growth and profitability. The Company also believes its stock price should reflect expectations that its cash dividend will continue at current levels or grow and that its current share repurchase program will be fully consummated. Future dividends are subject to declaration by the Company’s Board of Directors, and the Company’s share repurchase program does not obligate it to acquire any specific number of shares. If the Company fails to meet expectations related to future growth, profitability, dividends, share repurchases or other market expectations, its stock price may decline significantly, which could have a material adverse impact on investor confidence and employee retention.\n",
      "\n",
      "Apple Inc. | Q1 2018 Form 10-Q | 41\n",
      "\n",
      "The Company’s financial performance is subject to risks associated with changes in the value of the U.S. dollar versus local currencies.\n",
      "The Company’s primary exposure to movements in foreign currency exchange rates relates to non-U.S. dollar-denominated sales and operating expenses worldwide. Weakening of foreign currencies relative to the U.S. dollar adversely affects the U.S. dollar value of the Company’s foreign currency-denominated sales and earnings, and generally leads the Company to raise international pricing, potentially reducing demand for the Company’s products. Margins on sales of the Company’s products in foreign countries and on sales of products that include components obtained from foreign suppliers, could be materially adversely affected by foreign currency exchange rate fluctuations. In some circumstances, for competitive or other reasons, the Company may decide not to raise local prices to fully offset the dollar’s strengthening, or at all, which would adversely affect the U.S. dollar value of the Company’s foreign currency-denominated sales and earnings. Conversely, a strengthening of foreign currencies relative to the U.S. dollar, while generally beneficial to the Company’s foreign currency-denominated sales and earnings, could cause the Company to reduce international pricing and incur losses on its foreign currency derivative instruments, thereby limiting the benefit. Additionally, strengthening of foreign currencies may increase the Company’s cost of product components denominated in those currencies, thus adversely affecting gross margins.\n",
      "The Company uses derivative instruments, such as foreign currency forward and option contracts, to hedge certain exposures to fluctuations in foreign currency exchange rates. The use of such hedging activities may not offset any, or more than a portion, of the adverse financial effects of unfavorable movements in foreign exchange rates over the limited time the hedges are in place.\n",
      "The Company is exposed to credit risk and fluctuations in the market values of its investment portfolio.\n",
      "Given the global nature of its business, the Company has both domestic and international investments. Credit ratings and pricing of the Company’s investments can be negatively affected by liquidity, credit deterioration, financial results, economic risk, political risk, sovereign risk or other factors. As a result, the value and liquidity of the Company’s cash, cash equivalents and marketable securities may fluctuate substantially. Therefore, although the Company has not realized any significant losses on its cash, cash equivalents and marketable securities, future fluctuations in their value could result in significant realized losses.\n",
      "The Company is exposed to credit risk on its trade accounts receivable, vendor non-trade receivables and prepayments related to long-term supply agreements, and this risk is heightened during periods when economic conditions worsen.\n",
      "The Company distributes its products through third-party cellular network carriers, wholesalers, retailers and resellers. The Company also sells its products directly to small and mid-sized businesses and education, enterprise and government customers. A substantial majority of the Company’s outstanding trade receivables are not covered by collateral, third-party financing arrangements or credit insurance. The Company’s exposure to credit and collectibility risk on its trade receivables is higher in certain international markets and its ability to mitigate such risks may be limited. The Company also has unsecured vendor non-trade receivables resulting from purchases of components by outsourcing partners and other vendors that manufacture sub-assemblies or assemble final products for the Company. In addition, the Company has made prepayments associated with long-term supply agreements to secure supply of inventory components. As of December 30, 2017, a significant portion of the Company’s trade receivables was concentrated within cellular network carriers, and its vendor non-trade receivables and prepayments related to long-term supply agreements were concentrated among a few individual vendors located primarily in Asia. While the Company has procedures to monitor and limit exposure to credit risk on its trade and vendor non-trade receivables, as well as long-term prepayments, there can be no assurance such procedures will effectively limit its credit risk and avoid losses.\n",
      "The Company could be subject to changes in its tax rates, the adoption of new U.S. or international tax legislation or exposure to additional tax liabilities.\n",
      "The Company is subject to taxes in the U.S. and numerous foreign jurisdictions, including Ireland, where a number of the Company’s subsidiaries are organized. Due to economic and political conditions, tax rates in various jurisdictions may be subject to significant change. The Company’s effective tax rates could be affected by changes in the mix of earnings in countries with differing statutory tax rates, changes in the valuation of deferred tax assets and liabilities, or changes in tax laws or their interpretation, including in the U.S. and Ireland.\n",
      "The Company is also subject to the examination of its tax returns and other tax matters by the U.S. Internal Revenue Service and other tax authorities and governmental bodies. The Company regularly assesses the likelihood of an adverse outcome resulting from these examinations to determine the adequacy of its provision for taxes. There can be no assurance as to the outcome of these examinations. If the Company’s effective tax rates were to increase, particularly in the U.S. or Ireland, or if the ultimate determination of the Company’s taxes owed is for an amount in excess of amounts previously accrued, the Company’s financial condition, operating results and cash flows could be adversely affected.Obs Time: 2018-09-06T14:02:00Z\n",
      "Cloud Cover: BKN\n",
      "Cloud Top: 34\n",
      "Cloud Base: 18\n",
      "Flight level: 000\n",
      "PIREP: ATL UA /OV ATL/TM 1402/FLDURC/TP B737/SK BASES BKN 018 TOPS 034 CLR ABOVEDisappointed #Miami looked they hadn’t even thought about improving on the offensive side of the ball.   Same feast or famine play calling. Losing is one thing, losing like that? And the kicking game, and the...  well, you get the point. Good for Coach O. Congrats to #LSU.To Mrs. Saville, England.\n",
      "\n",
      "Archangel, 28th March, 17—.\n",
      "\n",
      "How slowly the time passes here, encompassed as I am by frost and snow! Yet a second step is taken towards my enterprise. I have hired a vessel and am occupied in collecting my sailors; those whom I have already engaged appear to be men on whom I can depend and are certainly possessed of dauntless courage.\n",
      "\n",
      "But I have one want which I have never yet been able to satisfy, and the absence of the object of which I now feel as a most severe evil, I have no friend, Margaret: when I am glowing with the enthusiasm of success, there will be none to participate my joy; if I am assailed by disappointment, no one will endeavour to sustain me in dejection. I shall commit my thoughts to paper, it is true; but that is a poor medium for the communication of feeling. I desire the company of a man who could sympathise with me, whose eyes would reply to mine. You may deem me romantic, my dear sister, but I bitterly feel the want of a friend. I have no one near me, gentle yet courageous, possessed of a cultivated as well as of a capacious mind, whose tastes are like my own, to approve or amend my plans. How would such a friend repair the faults of your poor brother! I am too ardent in execution and too impatient of difficulties. But it is a still greater evil to me that I am self-educated: for the first fourteen years of my life I ran wild on a common and read nothing but our Uncle Thomas’ books of voyages. At that age I became acquainted with the celebrated poets of our own country; but it was only when it had ceased to be in my power to derive its most important benefits from such a conviction that I perceived the necessity of becoming acquainted with more languages than that of my native country. Now I am twenty-eight and am in reality more illiterate than many schoolboys of fifteen. It is true that I have thought more and that my daydreams are more extended and magnificent, but they want (as the painters call it) keeping; and I greatly need a friend who would have sense enough not to despise me as romantic, and affection enough for me to endeavour to regulate my mind.\n",
      "\n",
      "Well, these are useless complaints; I shall certainly find no friend on the wide ocean, nor even here in Archangel, among merchants and seamen. Yet some feelings, unallied to the dross of human nature, beat even in these rugged bosoms. My lieutenant, for instance, is a man of wonderful courage and enterprise; he is madly desirous of glory, or rather, to word my phrase more characteristically, of advancement in his profession. He is an Englishman, and in the midst of national and professional prejudices, unsoftened by cultivation, retains some of the noblest endowments of humanity. I first became acquainted with him on board a whale vessel; finding that he was unemployed in this city, I easily engaged him to assist in my enterprise.\n",
      "\n",
      "The master is a person of an excellent disposition and is remarkable in the ship for his gentleness and the mildness of his discipline. This circumstance, added to his well-known integrity and dauntless courage, made me very desirous to engage him. A youth passed in solitude, my best years spent under your gentle and feminine fosterage, has so refined the groundwork of my character that I cannot overcome an intense distaste to the usual brutality exercised on board ship: I have never believed it to be necessary, and when I heard of a mariner equally noted for his kindliness of heart and the respect and obedience paid to him by his crew, I felt myself peculiarly fortunate in being able to secure his services. I heard of him first in rather a romantic manner, from a lady who owes to him the happiness of her life. This, briefly, is his story. Some years ago he loved a young Russian lady of moderate fortune, and having amassed a considerable sum in prize-money, the father of the girl consented to the match. He saw his mistress once before the destined ceremony; but she was bathed in tears, and throwing herself at his feet, entreated him to spare her, confessing at the same time that she loved another, but that he was poor, and that her father would never consent to the union. My generous friend reassured the suppliant, and on being informed of the name of her lover, instantly abandoned his pursuit. He had already bought a farm with his money, on which he had designed to pass the remainder of his life; but he bestowed the whole on his rival, together with the remains of his prize-money to purchase stock, and then himself solicited the young woman’s father to consent to her marriage with her lover. But the old man decidedly refused, thinking himself bound in honour to my friend, who, when he found the father inexorable, quitted his country, nor returned until he heard that his former mistress was married according to her inclinations. “What a noble fellow!” you will exclaim. He is so; but then he is wholly uneducated: he is as silent as a Turk, and a kind of ignorant carelessness attends him, which, while it renders his conduct the more astonishing, detracts from the interest and sympathy which otherwise he would command.\n",
      "\n",
      "Yet do not suppose, because I complain a little or because I can conceive a consolation for my toils which I may never know, that I am wavering in my resolutions. Those are as fixed as fate, and my voyage is only now delayed until the weather shall permit my embarkation. The winter has been dreadfully severe, but the spring promises well, and it is considered as a remarkably early season, so that perhaps I may sail sooner than I expected. I shall do nothing rashly: you know me sufficiently to confide in my prudence and considerateness whenever the safety of others is committed to my care.\n",
      "\n",
      "“Right now, a wild estimate would be 200-300 acres,” are burning, Hinman said at about 6 p.m., “\n",
      "\n",
      "I cannot describe to you my sensations on the near prospect of my undertaking. It is impossible to communicate to you a conception of the trembling sensation, half pleasurable and half fearful, with which I am preparing to depart. I am going to unexplored regions, to “the land of mist and snow,” but I shall kill no albatross; therefore do not be alarmed for my safety or if I should come back to you as worn and woeful as the “Ancient Mariner.” You will smile at my allusion, but I will disclose a secret. I have often attributed my attachment to, my passionate enthusiasm for, the dangerous mysteries of ocean to that production of the most imaginative of modern poets. There is something at work in my soul which I do not understand. I am practically industrious—painstaking, a workman to execute with perseverance and labour—but besides this there is a love for the marvellous, a belief in the marvellous, intertwined in all my projects, which hurries me out of the common pathways of men, even to the wild sea and unvisited regions I am about to explore.\n",
      "\n",
      "But to return to dearer considerations. Shall I meet you again, after having traversed immense seas, and returned by the most southern cape of Africa or America? I dare not expect such success, yet I cannot bear to look on the reverse of the picture. Continue for the present to write to me by every opportunity: I may receive your letters on some occasions when I need them most to support my spirits. I love you very tenderly. Remember me with affection, should you never hear from me again.\n",
      "\n",
      "Your affectionate brother,\n",
      "Robert Walton\n",
      "\n",
      "To Mrs. Saville, England.\n",
      "\n",
      "Archangel, 28th March, 17—.\n",
      "\n",
      "How slowly the time passes here, encompassed as I am by frost and snow! Yet a second step is taken towards my enterprise. I have hired a vessel and am occupied in collecting my sailors; those whom I have already engaged appear to be men on whom I can depend and are certainly possessed of dauntless courage.\n",
      "\n",
      "But I have one want which I have never yet been able to satisfy, and the absence of the object of which I now feel as a most severe evil, I have no friend, Margaret: when I am glowing with the enthusiasm of success, there will be none to participate my joy; if I am assailed by disappointment, no one will endeavour to sustain me in dejection. I shall commit my thoughts to paper, it is true; but that is a poor medium for the communication of feeling. I desire the company of a man who could sympathise with me, whose eyes would reply to mine. You may deem me romantic, my dear sister, but I bitterly feel the want of a friend. I have no one near me, gentle yet courageous, possessed of a cultivated as well as of a capacious mind, whose tastes are like my own, to approve or amend my plans. How would such a friend repair the faults of your poor brother! I am too ardent in execution and too impatient of difficulties. But it is a still greater evil to me that I am self-educated: for the first fourteen years of my life I ran wild on a common and read nothing but our Uncle Thomas’ books of voyages. At that age I became acquainted with the celebrated poets of our own country; but it was only when it had ceased to be in my power to derive its most important benefits from such a conviction that I perceived the necessity of becoming acquainted with more languages than that of my native country. Now I am twenty-eight and am in reality more illiterate than many schoolboys of fifteen. It is true that I have thought more and that my daydreams are more extended and magnificent, but they want (as the painters call it) keeping; and I greatly need a friend who would have sense enough not to despise me as romantic, and affection enough for me to endeavour to regulate my mind.\n",
      "\n",
      "Well, these are useless complaints; I shall certainly find no friend on the wide ocean, nor even here in Archangel, among merchants and seamen. Yet some feelings, unallied to the dross of human nature, beat even in these rugged bosoms. My lieutenant, for instance, is a man of wonderful courage and enterprise; he is madly desirous of glory, or rather, to word my phrase more characteristically, of advancement in his profession. He is an Englishman, and in the midst of national and professional prejudices, unsoftened by cultivation, retains some of the noblest endowments of humanity. I first became acquainted with him on board a whale vessel; finding that he was unemployed in this city, I easily engaged him to assist in my enterprise.\n",
      "\n",
      "The master is a person of an excellent disposition and is remarkable in the ship for his gentleness and the mildness of his discipline. This circumstance, added to his well-known integrity and dauntless courage, made me very desirous to engage him. A youth passed in solitude, my best years spent under your gentle and feminine fosterage, has so refined the groundwork of my character that I cannot overcome an intense distaste to the usual brutality exercised on board ship: I have never believed it to be necessary, and when I heard of a mariner equally noted for his kindliness of heart and the respect and obedience paid to him by his crew, I felt myself peculiarly fortunate in being able to secure his services. I heard of him first in rather a romantic manner, from a lady who owes to him the happiness of her life. This, briefly, is his story. Some years ago he loved a young Russian lady of moderate fortune, and having amassed a considerable sum in prize-money, the father of the girl consented to the match. He saw his mistress once before the destined ceremony; but she was bathed in tears, and throwing herself at his feet, entreated him to spare her, confessing at the same time that she loved another, but that he was poor, and that her father would never consent to the union. My generous friend reassured the suppliant, and on being informed of the name of her lover, instantly abandoned his pursuit. He had already bought a farm with his money, on which he had designed to pass the remainder of his life; but he bestowed the whole on his rival, together with the remains of his prize-money to purchase stock, and then himself solicited the young woman’s father to consent to her marriage with her lover. But the old man decidedly refused, thinking himself bound in honour to my friend, who, when he found the father inexorable, quitted his country, nor returned until he heard that his former mistress was married according to her inclinations. “What a noble fellow!” you will exclaim. He is so; but then he is wholly uneducated: he is as silent as a Turk, and a kind of ignorant carelessness attends him, which, while it renders his conduct the more astonishing, detracts from the interest and sympathy which otherwise he would command.\n",
      "\n",
      "Yet do not suppose, because I complain a little or because I can conceive a consolation for my toils which I may never know, that I am wavering in my resolutions. Those are as fixed as fate, and my voyage is only now delayed until the weather shall permit my embarkation. The winter has been dreadfully severe, but the spring promises well, and it is considered as a remarkably early season, so that perhaps I may sail sooner than I expected. I shall do nothing rashly: you know me sufficiently to confide in my prudence and considerateness whenever the safety of others is committed to my care.\n",
      "\n",
      "I cannot describe to you my sensations on the near prospect of my undertaking. It is impossible to communicate to you a conception of the trembling sensation, half pleasurable and half fearful, with which I am preparing to depart. I am going to unexplored regions, to “the land of mist and snow,” but I shall kill no albatross; therefore do not be alarmed for my safety or if I should come back to you as worn and woeful as the “Ancient Mariner.” You will smile at my allusion, but I will disclose a secret. I have often attributed my attachment to, my passionate enthusiasm for, the dangerous mysteries of ocean to that production of the most imaginative of modern poets. There is something at work in my soul which I do not understand. I am practically industrious—painstaking, a workman to execute with perseverance and labour—but besides this there is a love for the marvellous, a belief in the marvellous, intertwined in all my projects, which hurries me out of the common pathways of men, even to the wild sea and unvisited regions I am about to explore.\n",
      "\n",
      "But to return to dearer considerations. Shall I meet you again, after having traversed immense seas, and returned by the most southern cape of Africa or America? I dare not expect such success, yet I cannot bear to look on the reverse of the picture. Continue for the present to write to me by every opportunity: I may receive your letters on some occasions when I need them most to support my spirits. I love you very tenderly. Remember me with affection, should you never hear from me again.\n",
      "\n",
      "Your affectionate brother,\n",
      "Robert Walton\n",
      "\n",
      "Smoke filled the air as multiple fire departments battled a grass fire Monday north of Henry.\n",
      "\n",
      "A large amount of smoke was reported at about 3:35 p.m., about six miles north of Henry, Morrill Fire Chief Matt Hinman said.\n",
      "\n",
      "Firefighters from Mitchell, Morrill, Lyman, Torrington, Scottsbluff Rural, Scottsbluff and Gering were called out to respond to the fire. Firefighters from Yoder and Lingle, Wyoming, fire departments, as well as Hot Springs, South Dakota, have also been called to assist. Hinman estimated 50 to 60 firefighters have responded to battle the fire.\n",
      "\n",
      "“Right now, a wild estimate would be 200-300 acres,” are burning, Hinman said at about 6 p.m., “\n",
      "\n",
      "One firefighter, Mike Kindred, of Lyman Volunteer Fire, said he had been on the front lines and called the fire “pretty rugged.” He said it is smokey and firefighters can’t see much and are battling the fire on rough, sandy terrain.\n",
      "\n",
      "The goal, Hinman said, is to “hold the fire lines, hope the winds die down and have the fire contained by dark.”\n",
      "\n",
      "Winds were averaging around 30 miles per hour.\n"
     ]
    }
   ],
   "source": [
    "import nltk.data\n",
    "from os import listdir\n",
    "from os.path import isfile, join\n",
    "from nltk.util import bigrams \n",
    "from nltk.tokenize import TreebankWordTokenizer\n",
    "sentence_tokenizer = nltk.data.load('tokenizers/punkt/english.pickle')\n",
    "treebank_tokenizer = TreebankWordTokenizer()\n",
    "\n",
    "\n",
    "dir_base = \"/Users/teacher/repos/s20_ds_nlp/classes/week_2/data/\"\n",
    "\n",
    "\n",
    "\n",
    "def read_file(filename):\n",
    "    input_file_text = open(filename , encoding='utf-8').read()\n",
    "    return input_file_text\n",
    "\n",
    "    \n",
    "def read_directory_files(directory):\n",
    "    file_texts = \"\"\n",
    "    files = [f for f in listdir(directory) if isfile(join(directory, f))]\n",
    "    for f in files:\n",
    "        file_texts += read_file(join(directory, f) )\n",
    "    return file_texts\n",
    "    \n",
    "text_corpus = read_directory_files(dir_base)\n",
    "print(text_corpus)"
   ]
  },
  {
   "cell_type": "markdown",
   "metadata": {},
   "source": [
    "So now we have a single text variable that represents all the text in a corpus.\n",
    "\n",
    "Can we get counts and what not of this?"
   ]
  },
  {
   "cell_type": "code",
   "execution_count": 6,
   "metadata": {},
   "outputs": [],
   "source": [
    "bigrams = nltk.bigrams(text_corpus)\n",
    "freq_bi = nltk.FreqDist(bigrams)"
   ]
  },
  {
   "cell_type": "code",
   "execution_count": 7,
   "metadata": {},
   "outputs": [
    {
     "data": {
      "text/plain": [
       "[]"
      ]
     },
     "execution_count": 7,
     "metadata": {},
     "output_type": "execute_result"
    }
   ],
   "source": [
    "list(bigrams)"
   ]
  },
  {
   "cell_type": "code",
   "execution_count": null,
   "metadata": {},
   "outputs": [],
   "source": [
    "freq_bi.plot(10)"
   ]
  },
  {
   "cell_type": "markdown",
   "metadata": {},
   "source": [
    "What's the problem with this data?\n",
    "\n",
    "Characters only."
   ]
  },
  {
   "cell_type": "code",
   "execution_count": null,
   "metadata": {},
   "outputs": [],
   "source": [
    "punkt_sentences = sentence_tokenizer.tokenize(text_corpus)\n",
    "sentences_words = [treebank_tokenizer.tokenize(sentence) for sentence in punkt_sentences]\n",
    "all_tokens = [word for sentence in sentences_words for word in sentence]\n",
    "bigrams = nltk.bigrams(all_tokens)\n",
    "freq_bi = nltk.FreqDist(bigrams)"
   ]
  },
  {
   "cell_type": "code",
   "execution_count": null,
   "metadata": {},
   "outputs": [],
   "source": [
    "print(freq_bi.most_common(20))\n",
    "freq_bi.plot(10)"
   ]
  },
  {
   "cell_type": "code",
   "execution_count": null,
   "metadata": {},
   "outputs": [],
   "source": [
    "stop_words = nltk.corpus.stopwords.words('english')\n",
    "content = [w for w in all_tokens if w.lower() not in stop_words]\n",
    "bigrams = nltk.bigrams(content)\n",
    "freq_bi = nltk.FreqDist(bigrams)"
   ]
  },
  {
   "cell_type": "code",
   "execution_count": null,
   "metadata": {},
   "outputs": [],
   "source": [
    "print(freq_bi.most_common(20))\n",
    "freq_bi.plot(10)"
   ]
  },
  {
   "cell_type": "markdown",
   "metadata": {},
   "source": [
    "What other things might we remove?\n",
    "\n",
    "Numbers? Punctuation?"
   ]
  },
  {
   "cell_type": "code",
   "execution_count": null,
   "metadata": {},
   "outputs": [],
   "source": [
    "print(freq_bi.hapaxes())\n",
    "print(freq_bi.N())\n",
    "print(freq_bi.freq(('May','21')))"
   ]
  },
  {
   "cell_type": "code",
   "execution_count": null,
   "metadata": {},
   "outputs": [],
   "source": [
    "MLE_Dist = nltk.MLEProbDist(freq_bi)\n",
    "MLE_Dist.max()\n",
    "print(MLE_Dist.prob(('Air', 'Force')))\n",
    "print(MLE_Dist.logprob(('Air', 'Force')) )"
   ]
  },
  {
   "cell_type": "markdown",
   "metadata": {},
   "source": [
    "But what if we use words that we've never seen before?"
   ]
  },
  {
   "cell_type": "code",
   "execution_count": null,
   "metadata": {},
   "outputs": [],
   "source": [
    "print(MLE_Dist.prob(('Chair', 'Force')))\n",
    "print(MLE_Dist.logprob(('Chair', 'Force')) )"
   ]
  },
  {
   "cell_type": "code",
   "execution_count": null,
   "metadata": {},
   "outputs": [],
   "source": [
    "Smoothed_dist = nltk.LaplaceProbDist(freq_bi)\n",
    "print(Smoothed_dist.prob(('Chair', 'Force')))\n",
    "print(Smoothed_dist.logprob(('Chair', 'Force')) )"
   ]
  },
  {
   "cell_type": "code",
   "execution_count": null,
   "metadata": {},
   "outputs": [],
   "source": [
    "print(Smoothed_dist.generate())"
   ]
  },
  {
   "cell_type": "code",
   "execution_count": null,
   "metadata": {},
   "outputs": [],
   "source": [
    "test_sentence_1 = \"The quantity decrease of the production units and the removal of funds occurred because the decided to use procurement funds to develop a higher priority air superiority program.\"\n",
    "test_sentence_2 = \"It is like totally rad that we were able to go out and see a bus with all the new doors on it.\"\n",
    "\n",
    "def get_sentence_bigrams(sentence):\n",
    "    sentence_words = treebank_tokenizer.tokenize(sentence)\n",
    "    word_count = len(sentence_words)\n",
    "    bigrams = nltk.bigrams(sentence_words)\n",
    "    return bigrams, word_count\n",
    "    \n",
    "def estimate_sentence_probability(bigram_sentence, word_length):\n",
    "    slogprob = 0\n",
    "    for bigram_words in bigram_sentence:\n",
    "        logprob= Smoothed_dist.logprob(bigram_words)\n",
    "        slogprob += logprob\n",
    "     \n",
    "    return slogprob/word_length\n",
    "\n",
    "\n",
    "bigram_sentence,word_count = get_sentence_bigrams(test_sentence_1)\n",
    "estimate_probability = estimate_sentence_probability(bigram_sentence, word_count)\n",
    "print(estimate_probability)\n",
    "\n",
    "bigram_sentence_2,word_count = get_sentence_bigrams(test_sentence_2)\n",
    "estimate_probability_2 = estimate_sentence_probability(bigram_sentence_2, word_count)\n",
    "print(estimate_probability_2)\n",
    "\n"
   ]
  },
  {
   "cell_type": "markdown",
   "metadata": {},
   "source": [
    "Do these numbers look right?"
   ]
  },
  {
   "cell_type": "code",
   "execution_count": null,
   "metadata": {},
   "outputs": [],
   "source": [
    "def get_better_sentence_bigrams(sentence):\n",
    "    sentence_words = treebank_tokenizer.tokenize(sentence)\n",
    "    stop_words = nltk.corpus.stopwords.words('english')\n",
    "    content = [w for w in sentence_words if w.lower() not in stop_words]\n",
    "    word_count = len(sentence_words)\n",
    "    bigrams = nltk.bigrams(content)\n",
    "    return bigrams, word_count\n",
    "    \n",
    "\n",
    "bigram_sentence, word_count = get_better_sentence_bigrams(test_sentence_1)\n",
    "estimate_probability = estimate_sentence_probability(bigram_sentence, word_count)\n",
    "print(estimate_probability)\n",
    "\n",
    "bigram_sentence, word_count = get_better_sentence_bigrams(test_sentence_2)\n",
    "estimate_probability = estimate_sentence_probability(bigram_sentence, word_count)\n",
    "print(estimate_probability)"
   ]
  },
  {
   "cell_type": "code",
   "execution_count": null,
   "metadata": {},
   "outputs": [],
   "source": []
  }
 ],
 "metadata": {
  "kernelspec": {
   "display_name": "Python 3",
   "language": "python",
   "name": "python3"
  },
  "language_info": {
   "codemirror_mode": {
    "name": "ipython",
    "version": 3
   },
   "file_extension": ".py",
   "mimetype": "text/x-python",
   "name": "python",
   "nbconvert_exporter": "python",
   "pygments_lexer": "ipython3",
   "version": "3.6.5"
  }
 },
 "nbformat": 4,
 "nbformat_minor": 2
}
